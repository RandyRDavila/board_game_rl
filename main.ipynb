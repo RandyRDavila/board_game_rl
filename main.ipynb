{
 "cells": [
  {
   "cell_type": "code",
   "execution_count": 4,
   "metadata": {},
   "outputs": [
    {
     "name": "stdout",
     "output_type": "stream",
     "text": [
      "╒═══╤═══╤═══╕\n",
      "│ - │ - │ - │\n",
      "├───┼───┼───┤\n",
      "│ - │ - │ - │\n",
      "├───┼───┼───┤\n",
      "│ - │ - │ - │\n",
      "╘═══╧═══╧═══╛\n",
      "agentA Reward: 0\n",
      "╒═══╤═══╤═══╕\n",
      "│ - │ - │ - │\n",
      "├───┼───┼───┤\n",
      "│ - │ - │ - │\n",
      "├───┼───┼───┤\n",
      "│ - │ - │ X │\n",
      "╘═══╧═══╧═══╛\n",
      "agentB Reward: 0\n",
      "╒═══╤═══╤═══╕\n",
      "│ - │ O │ - │\n",
      "├───┼───┼───┤\n",
      "│ - │ - │ - │\n",
      "├───┼───┼───┤\n",
      "│ - │ - │ X │\n",
      "╘═══╧═══╧═══╛\n",
      "agentA Reward: 0\n",
      "╒═══╤═══╤═══╕\n",
      "│ - │ O │ - │\n",
      "├───┼───┼───┤\n",
      "│ - │ - │ - │\n",
      "├───┼───┼───┤\n",
      "│ X │ - │ X │\n",
      "╘═══╧═══╧═══╛\n",
      "agentB Reward: 0\n",
      "╒═══╤═══╤═══╕\n",
      "│ - │ O │ - │\n",
      "├───┼───┼───┤\n",
      "│ - │ O │ - │\n",
      "├───┼───┼───┤\n",
      "│ X │ - │ X │\n",
      "╘═══╧═══╧═══╛\n",
      "agentA Reward: -1\n",
      "╒═══╤═══╤═══╕\n",
      "│ - │ O │ - │\n",
      "├───┼───┼───┤\n",
      "│ - │ O │ - │\n",
      "├───┼───┼───┤\n",
      "│ X │ X │ X │\n",
      "╘═══╧═══╧═══╛\n",
      "The winner is Player.A\n"
     ]
    }
   ],
   "source": [
    "\n",
    "import random\n",
    "import board_game_rl as bgrl\n",
    "\n",
    "# Create a game board.\n",
    "env = bgrl.GameEnv(bgrl.tictactoe_logic)\n",
    "\n",
    "# Simulate a random game with the GameEnv class.\n",
    "\n",
    "# Create an agent with a random policy.\n",
    "agentA = bgrl.Agent(bgrl.Player.A, bgrl.random_policy)\n",
    "agentB = bgrl.Agent(bgrl.Player.B, bgrl.random_policy)\n",
    "\n",
    "# Play a game between two agents.\n",
    "state, done = env.reset()\n",
    "env.render()\n",
    "\n",
    "while not done:\n",
    "    moveA = agentA(env.game_board)\n",
    "    state, reward, done = env.step(agentA, moveA)\n",
    "    print(f\"agentA Reward: {reward}\")\n",
    "    env.render()\n",
    "    if done:\n",
    "        break\n",
    "    moveB = agentB(env.game_board)\n",
    "    state, reward, done = env.step(agentB, moveB)\n",
    "    print(f\"agentB Reward: {reward}\")\n",
    "    env.render()\n",
    "\n",
    "print(f\"The winner is {env.winner}\")"
   ]
  },
  {
   "cell_type": "code",
   "execution_count": 2,
   "metadata": {},
   "outputs": [
    {
     "name": "stdout",
     "output_type": "stream",
     "text": [
      "╒═══╤═══╤═══╕\n",
      "│ - │ - │ - │\n",
      "├───┼───┼───┤\n",
      "│ - │ - │ - │\n",
      "├───┼───┼───┤\n",
      "│ - │ - │ - │\n",
      "╘═══╧═══╧═══╛\n",
      "╒═══╤═══╤═══╕\n",
      "│ - │ - │ - │\n",
      "├───┼───┼───┤\n",
      "│ - │ X │ - │\n",
      "├───┼───┼───┤\n",
      "│ - │ - │ - │\n",
      "╘═══╧═══╧═══╛\n"
     ]
    }
   ],
   "source": [
    "# Create an agent with a random policy.\n",
    "agentA = bgrl.Agent(bgrl.Player.A, bgrl.random_policy)\n",
    "agentB = bgrl.Agent(bgrl.Player.B, bgrl.random_policy)\n",
    "\n",
    "# Play a game between two agents.\n",
    "state, done = env.reset()\n",
    "env.render()\n",
    "\n",
    "\n",
    "action = agentA(env.game_board)\n",
    "env.step(agentA, action)\n",
    "env.render()"
   ]
  },
  {
   "cell_type": "code",
   "execution_count": 6,
   "metadata": {},
   "outputs": [
    {
     "ename": "ValueError",
     "evalue": "The game is over. Please reset the environment.",
     "output_type": "error",
     "traceback": [
      "\u001b[0;31m---------------------------------------------------------------------------\u001b[0m",
      "\u001b[0;31mValueError\u001b[0m                                Traceback (most recent call last)",
      "Cell \u001b[0;32mIn[6], line 4\u001b[0m\n\u001b[1;32m      2\u001b[0m best_move \u001b[38;5;241m=\u001b[39m \u001b[38;5;28;01mNone\u001b[39;00m\n\u001b[1;32m      3\u001b[0m \u001b[38;5;28;01mfor\u001b[39;00m move \u001b[38;5;129;01min\u001b[39;00m valid_moves:\n\u001b[0;32m----> 4\u001b[0m     \u001b[43menv\u001b[49m\u001b[38;5;241;43m.\u001b[39;49m\u001b[43mstep\u001b[49m\u001b[43m(\u001b[49m\u001b[43magentB\u001b[49m\u001b[38;5;241;43m.\u001b[39;49m\u001b[43mplayer\u001b[49m\u001b[43m,\u001b[49m\u001b[43m \u001b[49m\u001b[43mmove\u001b[49m\u001b[43m)\u001b[49m\n\u001b[1;32m      5\u001b[0m     \u001b[38;5;28;01mif\u001b[39;00m env\u001b[38;5;241m.\u001b[39mgame_board\u001b[38;5;241m.\u001b[39mwinner \u001b[38;5;241m==\u001b[39m agentB\u001b[38;5;241m.\u001b[39mplayer:\n\u001b[1;32m      6\u001b[0m         best_move \u001b[38;5;241m=\u001b[39m move\n",
      "File \u001b[0;32m~/Documents/RICE-2024/board_game_rl/board_game_rl/env_class.py:41\u001b[0m, in \u001b[0;36mGameEnv.step\u001b[0;34m(self, player, move)\u001b[0m\n\u001b[1;32m     30\u001b[0m \u001b[38;5;250m\u001b[39m\u001b[38;5;124;03m\"\"\"\u001b[39;00m\n\u001b[1;32m     31\u001b[0m \u001b[38;5;124;03mTake a step in the environment by executing the move for the given player.\u001b[39;00m\n\u001b[1;32m     32\u001b[0m \n\u001b[0;32m   (...)\u001b[0m\n\u001b[1;32m     38\u001b[0m \u001b[38;5;124;03mtuple: A tuple containing the new state of the board, the reward, and a boolean indicating if the game is over.\u001b[39;00m\n\u001b[1;32m     39\u001b[0m \u001b[38;5;124;03m\"\"\"\u001b[39;00m\n\u001b[1;32m     40\u001b[0m \u001b[38;5;28;01mif\u001b[39;00m \u001b[38;5;28mself\u001b[39m\u001b[38;5;241m.\u001b[39mdone:\n\u001b[0;32m---> 41\u001b[0m     \u001b[38;5;28;01mraise\u001b[39;00m \u001b[38;5;167;01mValueError\u001b[39;00m(\u001b[38;5;124m\"\u001b[39m\u001b[38;5;124mThe game is over. Please reset the environment.\u001b[39m\u001b[38;5;124m\"\u001b[39m)\n\u001b[1;32m     43\u001b[0m new_state \u001b[38;5;241m=\u001b[39m \u001b[38;5;28mself\u001b[39m\u001b[38;5;241m.\u001b[39mgame_board\u001b[38;5;241m.\u001b[39mplay(player, move)\n\u001b[1;32m     45\u001b[0m \u001b[38;5;66;03m# Check if the game is over and update the winner\u001b[39;00m\n",
      "\u001b[0;31mValueError\u001b[0m: The game is over. Please reset the environment."
     ]
    }
   ],
   "source": [
    "valid_moves = env.game_board.valid_moves()\n",
    "best_move = None\n",
    "for move in valid_moves:\n",
    "    env.step(agentB.player, move)\n",
    "    if env.game_board.winner == agentB.player:\n",
    "        best_move = move\n",
    "        break\n",
    "    env.revert()\n",
    "if best_move is None:\n",
    "    best_move = random.choice(valid_moves)\n",
    "\n",
    "env.step(agentB, best_move)\n"
   ]
  },
  {
   "cell_type": "code",
   "execution_count": null,
   "metadata": {},
   "outputs": [],
   "source": []
  }
 ],
 "metadata": {
  "kernelspec": {
   "display_name": ".venv",
   "language": "python",
   "name": "python3"
  },
  "language_info": {
   "codemirror_mode": {
    "name": "ipython",
    "version": 3
   },
   "file_extension": ".py",
   "mimetype": "text/x-python",
   "name": "python",
   "nbconvert_exporter": "python",
   "pygments_lexer": "ipython3",
   "version": "3.9.13"
  }
 },
 "nbformat": 4,
 "nbformat_minor": 2
}
